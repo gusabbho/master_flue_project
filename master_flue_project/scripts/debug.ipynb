{
 "cells": [
  {
   "cell_type": "code",
   "execution_count": 8,
   "id": "breeding-slave",
   "metadata": {},
   "outputs": [],
   "source": [
    "import sys, os\n",
    "path = os.path.dirname(os.getcwd())\n",
    "sys.path.append(path)\n",
    "\n",
    "import tensorflow as tf\n",
    "from utils import losses\n",
    "\n",
    "loss_obj = losses.WassersteinLoss()"
   ]
  },
  {
   "cell_type": "code",
   "execution_count": 10,
   "id": "understood-sherman",
   "metadata": {},
   "outputs": [
    {
     "name": "stdout",
     "output_type": "stream",
     "text": [
      "real_loss tf.Tensor(-1.8213669, shape=(), dtype=float32)\n",
      "fake_loss tf.Tensor(-1.8213669, shape=(), dtype=float32)\n"
     ]
    },
    {
     "data": {
      "text/plain": [
       "<tf.Tensor: shape=(), dtype=float32, numpy=0.0>"
      ]
     },
     "execution_count": 10,
     "metadata": {},
     "output_type": "execute_result"
    }
   ],
   "source": [
    "const = tf.constant([[-1.8400836],[-1.8746002],[-1.8091769],[-1.7933143],[-1.8127923],[-1.798234 ]])\n",
    "\n",
    "loss_obj.discriminator_loss_fn(const, const)"
   ]
  },
  {
   "cell_type": "code",
   "execution_count": null,
   "id": "sonic-stock",
   "metadata": {},
   "outputs": [],
   "source": []
  }
 ],
 "metadata": {
  "kernelspec": {
   "display_name": "Python 3",
   "language": "python",
   "name": "python3"
  },
  "language_info": {
   "codemirror_mode": {
    "name": "ipython",
    "version": 3
   },
   "file_extension": ".py",
   "mimetype": "text/x-python",
   "name": "python",
   "nbconvert_exporter": "python",
   "pygments_lexer": "ipython3",
   "version": "3.7.7"
  }
 },
 "nbformat": 4,
 "nbformat_minor": 5
}
